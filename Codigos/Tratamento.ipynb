{
 "cells": [
  {
   "cell_type": "code",
   "execution_count": 10,
   "id": "a83854b9",
   "metadata": {},
   "outputs": [],
   "source": [
    "import os\n",
    "import pandas as pd\n",
    "\n",
    "def aplicar_em_todos_csvs(funcao_dataframe, diretorio = os.getcwd().replace('Codigos', 'Data'), salvar=True):\n",
    "\n",
    "    for nome_arquivo in os.listdir(diretorio):\n",
    "\n",
    "        if nome_arquivo.endswith(\".csv\"):\n",
    "\n",
    "            caminho_completo = os.path.join(diretorio, nome_arquivo)\n",
    "            print(f\"Lendo: {caminho_completo}\")\n",
    "            \n",
    "            df = pd.read_csv(caminho_completo, sep=';', encoding='ISO-8859-1', low_memory=False)\n",
    "            df_modificado = funcao_dataframe(df)\n",
    "\n",
    "            if salvar:\n",
    "                \n",
    "                df_modificado.to_csv(caminho_completo, index=False, sep=';')\n",
    "                print(f\"Salvo: {caminho_completo}\")\n"
   ]
  },
  {
   "cell_type": "code",
   "execution_count": 11,
   "id": "52a867ca",
   "metadata": {},
   "outputs": [],
   "source": [
    "def excluir_colunas(df):\n",
    "    \n",
    "    colunas_desejadas = [\n",
    "    \"NU_INSCRICAO\", \"NU_NOTA_CN\", \"NU_NOTA_CH\", \"NU_NOTA_LC\", \"NU_NOTA_MT\", \"NU_NOTA_REDACAO\",\n",
    "    \"TP_COR_RACA\", \"TP_SEXO\", \"TP_FAIXA_ETARIA\", \"TP_DEPENDENCIA_ADM_ESC\", \"TP_LOCALIZACAO_ESC\",\n",
    "    \"CO_MUNICIPIO_ESC\", \"CO_UF_ESC\", \"Q001\", \"Q002\", \"Q003\", \"Q004\", \"Q005\", \"Q006\",\n",
    "    \"Q022\", \"Q024\", \"Q025\", \"Q010\", \"Q011\", \"TP_ST_CONCLUSAO\", \"TP_ANO_CONCLUIU\", \"TP_ESTADO_CIVIL\"\n",
    "    ]\n",
    "\n",
    "    try:\n",
    "        df = df[colunas_desejadas]\n",
    "\n",
    "    except:\n",
    "        print(\"Falta as colnas: \", [col for col in colunas_desejadas if col not in df.columns])\n",
    "\n",
    "    return df\n"
   ]
  },
  {
   "cell_type": "code",
   "execution_count": 12,
   "id": "dbc6a3a0",
   "metadata": {},
   "outputs": [
    {
     "name": "stdout",
     "output_type": "stream",
     "text": [
      "Lendo: c:\\Users\\laraj\\Documents\\trabalhos\\Em produção\\Trabalho-de-ML\\Data\\MICRODADOS_ENEM_2018.csv\n",
      "Salvo: c:\\Users\\laraj\\Documents\\trabalhos\\Em produção\\Trabalho-de-ML\\Data\\MICRODADOS_ENEM_2018.csv\n",
      "Lendo: c:\\Users\\laraj\\Documents\\trabalhos\\Em produção\\Trabalho-de-ML\\Data\\MICRODADOS_ENEM_2019.csv\n",
      "Salvo: c:\\Users\\laraj\\Documents\\trabalhos\\Em produção\\Trabalho-de-ML\\Data\\MICRODADOS_ENEM_2019.csv\n",
      "Lendo: c:\\Users\\laraj\\Documents\\trabalhos\\Em produção\\Trabalho-de-ML\\Data\\MICRODADOS_ENEM_2020.csv\n",
      "Salvo: c:\\Users\\laraj\\Documents\\trabalhos\\Em produção\\Trabalho-de-ML\\Data\\MICRODADOS_ENEM_2020.csv\n",
      "Lendo: c:\\Users\\laraj\\Documents\\trabalhos\\Em produção\\Trabalho-de-ML\\Data\\MICRODADOS_ENEM_2021.csv\n",
      "Salvo: c:\\Users\\laraj\\Documents\\trabalhos\\Em produção\\Trabalho-de-ML\\Data\\MICRODADOS_ENEM_2021.csv\n",
      "Lendo: c:\\Users\\laraj\\Documents\\trabalhos\\Em produção\\Trabalho-de-ML\\Data\\MICRODADOS_ENEM_2022.csv\n",
      "Salvo: c:\\Users\\laraj\\Documents\\trabalhos\\Em produção\\Trabalho-de-ML\\Data\\MICRODADOS_ENEM_2022.csv\n",
      "Lendo: c:\\Users\\laraj\\Documents\\trabalhos\\Em produção\\Trabalho-de-ML\\Data\\MICRODADOS_ENEM_2023.csv\n",
      "Salvo: c:\\Users\\laraj\\Documents\\trabalhos\\Em produção\\Trabalho-de-ML\\Data\\MICRODADOS_ENEM_2023.csv\n"
     ]
    }
   ],
   "source": [
    "aplicar_em_todos_csvs(excluir_colunas)"
   ]
  }
 ],
 "metadata": {
  "kernelspec": {
   "display_name": "Python 3",
   "language": "python",
   "name": "python3"
  },
  "language_info": {
   "codemirror_mode": {
    "name": "ipython",
    "version": 3
   },
   "file_extension": ".py",
   "mimetype": "text/x-python",
   "name": "python",
   "nbconvert_exporter": "python",
   "pygments_lexer": "ipython3",
   "version": "3.10.10"
  }
 },
 "nbformat": 4,
 "nbformat_minor": 5
}
